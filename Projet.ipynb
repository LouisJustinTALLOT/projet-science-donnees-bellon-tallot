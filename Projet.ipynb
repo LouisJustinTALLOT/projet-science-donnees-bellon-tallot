{
 "cells": [
  {
   "cell_type": "markdown",
   "id": "36e32437",
   "metadata": {},
   "source": [
    "# Projet numérique de science des données - Tallot Louis-Justin et Bellon Judith"
   ]
  },
  {
   "cell_type": "markdown",
   "id": "fe98c5fb",
   "metadata": {},
   "source": [
    "## Introduction au projet\n",
    "\n",
    "Il s'agit dans ce projet d'utiliser des données cartographiques décrivant des carrées de 30m x 30m pour construire un modèle prédictif de l'espèce d'arbre présente sur un tel carré.\n",
    "\n",
    "Le but final est d'appliquer ce modèle pour faire des prédictions pour des données pour lesquelles vous ne disposez pas d'une étiquette.\n",
    "\n",
    "__Consignes :__ \n",
    "* Vous devez rendre, par binôme :\n",
    "    * un notebook jupyter\n",
    "    * un fichier de prédictions (voir plus bas pour le format)\n",
    "* __Renseignez vos noms/prénoms__ dans le titre du notebook\n",
    "* Vous avez jusqu'au __1er juillet midi heure de Paris__\n",
    "* Déposez vos fichiers [sur Campus](https://campus.mines-paristech.fr/course/view.php?id=404) dans la section dédiée (un seul rendu par binôme est nécessaire)\n",
    "\n",
    "\n",
    "__Déroulé :__\n",
    "* Les séances du lundi 14/06 (15h30-17h) et jeudi 24/06 (15h30-17h) sont dédiées au projet numérique. Faites-en bon usage.\n",
    "* Certaines sections font appel à des notions qui n'auront pas encore été vues le 14/06 ; c'est indiqué le cas échéant."
   ]
  },
  {
   "cell_type": "markdown",
   "id": "fc91eeda",
   "metadata": {},
   "source": [
    "## Données"
   ]
  },
  {
   "cell_type": "markdown",
   "id": "f32946a9",
   "metadata": {},
   "source": [
    "### Données publiques et privées\n",
    "\n",
    "Le dossier `data/` contient deux jeux de données :\n",
    "* `data/foret_public.tsv` contient les données étiquetées, à partir desquelles construire votre modèle\n",
    "* `data/foret_prive.tsv` contient les données non-étiquetées, pour lesquelles faire vos prédictions.\n",
    "\n",
    "Chaque ligne dans les données correspond à un carré de 30 m x 30m, décrit par les variables suivantes :\n",
    "* `altitude` : altitude en mètres\n",
    "* `exposition` : azimut en degrés \n",
    "* `pente` : pente en degrés\n",
    "* `distance_horizontale_hydro` : distance horizontale au point d'eau le plus proche (en mètres)\n",
    "* `distance_verticale_hydro` : distance verticale au point d'eau le plus proche (en mètres)\n",
    "* `distance_horizontale_route` : distance horizontale à la route la plus proche (en mètres)\n",
    "* `ombrage_0900` : index d'ombrages à 9h du matin, au solstice, sur une échelle de 0 à 255\n",
    "* `ombrage_1200` : index d'ombrages à midi, au solstice, sur une échelle de 0 à 255\n",
    "* `ombrage_1500` : index d'ombrages à 15h, au solstice, sur une échelle de 0 à 255\n",
    "* `distance_horizontale_depart_feu` : distance horizontale au départ de feu de forêt le plus proche (en mètres)\n",
    "* `espece` : étiquette : espèce d'arbre présente (0 = pin tordu ; 1 = peuplier)|"
   ]
  },
  {
   "cell_type": "markdown",
   "id": "d1afa9df",
   "metadata": {},
   "source": [
    "### Chargement des données étiquetées"
   ]
  },
  {
   "cell_type": "code",
   "execution_count": 1,
   "id": "95399460",
   "metadata": {},
   "outputs": [
    {
     "name": "stdout",
     "output_type": "stream",
     "text": [
      "Populating the interactive namespace from numpy and matplotlib\n"
     ]
    }
   ],
   "source": [
    "%pylab inline"
   ]
  },
  {
   "cell_type": "code",
   "execution_count": 2,
   "id": "5cf88998",
   "metadata": {},
   "outputs": [],
   "source": [
    "import pandas as pd"
   ]
  },
  {
   "cell_type": "code",
   "execution_count": 3,
   "id": "a4776741",
   "metadata": {},
   "outputs": [],
   "source": [
    "df_public = pd.read_csv('data/foret_public.tsv', delimiter='\\t')"
   ]
  },
  {
   "cell_type": "code",
   "execution_count": 4,
   "id": "3336d68c",
   "metadata": {},
   "outputs": [
    {
     "data": {
      "text/html": [
       "<div>\n",
       "<style scoped>\n",
       "    .dataframe tbody tr th:only-of-type {\n",
       "        vertical-align: middle;\n",
       "    }\n",
       "\n",
       "    .dataframe tbody tr th {\n",
       "        vertical-align: top;\n",
       "    }\n",
       "\n",
       "    .dataframe thead th {\n",
       "        text-align: right;\n",
       "    }\n",
       "</style>\n",
       "<table border=\"1\" class=\"dataframe\">\n",
       "  <thead>\n",
       "    <tr style=\"text-align: right;\">\n",
       "      <th></th>\n",
       "      <th>altitude</th>\n",
       "      <th>exposition</th>\n",
       "      <th>pente</th>\n",
       "      <th>distance_horizontale_hydro</th>\n",
       "      <th>distance_verticale_hydro</th>\n",
       "      <th>distance_horizontale_route</th>\n",
       "      <th>ombrage_0900</th>\n",
       "      <th>ombrage_1200</th>\n",
       "      <th>ombrage_1500</th>\n",
       "      <th>distance_horizontale_depart_feu</th>\n",
       "      <th>espece</th>\n",
       "    </tr>\n",
       "  </thead>\n",
       "  <tbody>\n",
       "    <tr>\n",
       "      <th>0</th>\n",
       "      <td>2804</td>\n",
       "      <td>139</td>\n",
       "      <td>9</td>\n",
       "      <td>268</td>\n",
       "      <td>65</td>\n",
       "      <td>3180</td>\n",
       "      <td>234</td>\n",
       "      <td>238</td>\n",
       "      <td>135</td>\n",
       "      <td>6121</td>\n",
       "      <td>0</td>\n",
       "    </tr>\n",
       "    <tr>\n",
       "      <th>1</th>\n",
       "      <td>2785</td>\n",
       "      <td>155</td>\n",
       "      <td>18</td>\n",
       "      <td>242</td>\n",
       "      <td>118</td>\n",
       "      <td>3090</td>\n",
       "      <td>238</td>\n",
       "      <td>238</td>\n",
       "      <td>122</td>\n",
       "      <td>6211</td>\n",
       "      <td>0</td>\n",
       "    </tr>\n",
       "    <tr>\n",
       "      <th>2</th>\n",
       "      <td>2579</td>\n",
       "      <td>132</td>\n",
       "      <td>6</td>\n",
       "      <td>300</td>\n",
       "      <td>-15</td>\n",
       "      <td>67</td>\n",
       "      <td>230</td>\n",
       "      <td>237</td>\n",
       "      <td>140</td>\n",
       "      <td>6031</td>\n",
       "      <td>0</td>\n",
       "    </tr>\n",
       "    <tr>\n",
       "      <th>3</th>\n",
       "      <td>2886</td>\n",
       "      <td>151</td>\n",
       "      <td>11</td>\n",
       "      <td>371</td>\n",
       "      <td>26</td>\n",
       "      <td>5253</td>\n",
       "      <td>234</td>\n",
       "      <td>240</td>\n",
       "      <td>136</td>\n",
       "      <td>4051</td>\n",
       "      <td>0</td>\n",
       "    </tr>\n",
       "    <tr>\n",
       "      <th>4</th>\n",
       "      <td>2742</td>\n",
       "      <td>134</td>\n",
       "      <td>22</td>\n",
       "      <td>150</td>\n",
       "      <td>69</td>\n",
       "      <td>3215</td>\n",
       "      <td>248</td>\n",
       "      <td>224</td>\n",
       "      <td>92</td>\n",
       "      <td>6091</td>\n",
       "      <td>0</td>\n",
       "    </tr>\n",
       "  </tbody>\n",
       "</table>\n",
       "</div>"
      ],
      "text/plain": [
       "   altitude  exposition  pente  distance_horizontale_hydro  \\\n",
       "0      2804         139      9                         268   \n",
       "1      2785         155     18                         242   \n",
       "2      2579         132      6                         300   \n",
       "3      2886         151     11                         371   \n",
       "4      2742         134     22                         150   \n",
       "\n",
       "   distance_verticale_hydro  distance_horizontale_route  ombrage_0900  \\\n",
       "0                        65                        3180           234   \n",
       "1                       118                        3090           238   \n",
       "2                       -15                          67           230   \n",
       "3                        26                        5253           234   \n",
       "4                        69                        3215           248   \n",
       "\n",
       "   ombrage_1200  ombrage_1500  distance_horizontale_depart_feu  espece  \n",
       "0           238           135                             6121       0  \n",
       "1           238           122                             6211       0  \n",
       "2           237           140                             6031       0  \n",
       "3           240           136                             4051       0  \n",
       "4           224            92                             6091       0  "
      ]
     },
     "execution_count": 4,
     "metadata": {},
     "output_type": "execute_result"
    }
   ],
   "source": [
    "df_public.head()"
   ]
  },
  {
   "cell_type": "markdown",
   "id": "47f39d52",
   "metadata": {},
   "source": [
    "### Extraction de la matrice de design et des étiquettes "
   ]
  },
  {
   "cell_type": "code",
   "execution_count": 5,
   "id": "0267202f",
   "metadata": {},
   "outputs": [
    {
     "data": {
      "text/plain": [
       "array([[2804,  139,    9, ...,  238,  135, 6121],\n",
       "       [2785,  155,   18, ...,  238,  122, 6211],\n",
       "       [2579,  132,    6, ...,  237,  140, 6031],\n",
       "       ...,\n",
       "       [2932,  323,    7, ...,  233,  170, 2048],\n",
       "       [2935,  294,    6, ...,  239,  176, 2032],\n",
       "       [2937,  281,    8, ...,  241,  184, 2017]], dtype=int64)"
      ]
     },
     "execution_count": 5,
     "metadata": {},
     "output_type": "execute_result"
    }
   ],
   "source": [
    "X_public = np.array(df_public.drop(columns=[\"espece\"]))\n",
    "y_public = np.array(df_public[\"espece\"])\n",
    "X_public"
   ]
  },
  {
   "cell_type": "markdown",
   "id": "bfdf7959",
   "metadata": {},
   "source": [
    "### Visualisation des variables\n",
    "\n",
    "#### Question 1\n",
    "Visualisez chacune des variables de `X_public` sous la forme de deux histogrammes superposés, l'un correspondant aux observations de la classe positive, l'autre correspondant aux observations de la classe négative.\n",
    "\n",
    "__Conseils :__\n",
    "* utilisez `pos_indices = np.where(y_public==1)[0]` pour déterminer les indices des lignes de `y_public` (et donc dans `X_public`) dont l'étiquette vaut 1.\n",
    "* utilisez l'argument `alpha` de `plt.hist` pour rendre vos histogrammes transparents."
   ]
  },
  {
   "cell_type": "code",
   "execution_count": 63,
   "id": "f648e93e",
   "metadata": {},
   "outputs": [
    {
     "data": {
      "image/png": "[encoded data removed]",
      "text/plain": [
       "<Figure size 720x1800 with 10 Axes>"
      ]
     },
     "metadata": {
      "needs_background": "light"
     },
     "output_type": "display_data"
    }
   ],
   "source": [
    "pos_indices_1 = np.where(y_public==1)[0]\n",
    "pos_indices_0 = np.where(y_public==0)[0]\n",
    "names = list(df_public.columns)\n",
    "fig = plt.figure(figsize=(10,25))\n",
    "for i in range(len(X_public[0])):\n",
    "    ax = fig.add_subplot(5, 2, i+1)\n",
    "    ax.hist(X_public[pos_indices_0][:,i], alpha=0.5, color='b', label=\"Pin\")\n",
    "    ax.hist(X_public[pos_indices_1][:,i], alpha=0.5, color='r')\n",
    "    ax.set_title(names[i])\n",
    "    ax.legend()\n",
    "plt.plot();"
   ]
  },
  {
   "cell_type": "markdown",
   "id": "83750e48",
   "metadata": {},
   "source": [
    "#### Question 2\n",
    "Pensez-vous qu'il va être aisé de distinguer les deux classes ?"
   ]
  },
  {
   "cell_type": "markdown",
   "id": "564581d9-f145-40d1-bf79-76267b410057",
   "metadata": {},
   "source": [
    "Les histogrammes bleus (correspondant aux pins tordus) et rouges (peupliers) se ressemblent beaucoup : les plages de valeurs prises sont très comparables, ainsi que les répartitions entre ces valeurs.\n",
    "Il semble donc a priori difficile de distinguer les deux classes."
   ]
  },
  {
   "cell_type": "markdown",
   "id": "770a0c06",
   "metadata": {},
   "source": [
    "### Pré-traitement des variables"
   ]
  },
  {
   "cell_type": "markdown",
   "id": "e2f0e471",
   "metadata": {},
   "source": [
    "#### Question 3\n",
    "Transformez vos variables d'une manière qui vous parait judicieuse, en vous appuyant notamment sur la PC 3. Vous pouvez essayer différents pré-traitements, mais ce n'est pas nécessaire. Justifiez vos choix. Utilisez un array numpy `X_public_preprocessed` pour enregistrer le résultat."
   ]
  },
  {
   "cell_type": "code",
   "execution_count": 7,
   "id": "4a64e63c-4c6b-4495-81e7-18db779bfac9",
   "metadata": {
    "tags": []
   },
   "outputs": [],
   "source": [
    "from sklearn import preprocessing"
   ]
  },
  {
   "cell_type": "code",
   "execution_count": 8,
   "id": "ecc1ac4f-720a-4ceb-a7c8-324fe5723302",
   "metadata": {
    "tags": []
   },
   "outputs": [
    {
     "data": {
      "text/plain": [
       "StandardScaler()"
      ]
     },
     "execution_count": 8,
     "metadata": {},
     "output_type": "execute_result"
    }
   ],
   "source": [
    "standard_scaler = preprocessing.StandardScaler()\n",
    "standard_scaler.fit(X_public)"
   ]
  },
  {
   "cell_type": "code",
   "execution_count": 9,
   "id": "ca81f797-009f-4ffd-9ae6-fbdeb8b8fe26",
   "metadata": {},
   "outputs": [],
   "source": [
    "X_public_preprocessed = standard_scaler.transform(X_public)"
   ]
  },
  {
   "cell_type": "markdown",
   "id": "7d145c3b-695d-4ff3-a50c-c2674d5412d0",
   "metadata": {},
   "source": [
    "Nous choisissons de centrer-réduire les variables, afin de normaliser leurs influences respectives sur le résultat."
   ]
  },
  {
   "cell_type": "markdown",
   "id": "26024de8",
   "metadata": {},
   "source": [
    "## Premier modèle : 5-NN"
   ]
  },
  {
   "cell_type": "markdown",
   "id": "4998bcb6",
   "metadata": {},
   "source": [
    "### Algorithme des k plus proches voisins"
   ]
  },
  {
   "cell_type": "markdown",
   "id": "d9d9836a",
   "metadata": {},
   "source": [
    "Nous n'avons pas encore vu d'algorithme permettant d'entraîner un modèle de classification. Nous allons donc commencer avec un modèle simple : celui des __k plus proches voisins__ (ou __kNN__, pour _k nearest neighbors_).\n",
    "\n",
    "Dans ce modèle, la valeur de la fonction de décision en x est la proportion d'individus d'étiquette positive parmi les k plus proches voisins de x au sein des points du jeu d'entraînement ; k est fixé."
   ]
  },
  {
   "cell_type": "markdown",
   "id": "dea8dd2b",
   "metadata": {},
   "source": [
    "Nous allons commencer par utiliser un algorithme des k plus proches voisins avec k fixé à k=5."
   ]
  },
  {
   "cell_type": "markdown",
   "id": "a2dfd76a",
   "metadata": {},
   "source": [
    "#### Question 4\n",
    "\n",
    "Entraînez un modèle des sur les données `(X_public_preprocessed, y_public)` grâce à la classe `KNeighborsClassifier` du module `neighbors` de `sklearn`, utilisez l'algorithme des 5 plus proches voisins pour entrainer un modèle sur votre jeu d'entraînement.\n",
    "\n",
    "Documentation https://scikit-learn.org/stable/modules/generated/sklearn.neighbors.KNeighborsClassifier.html"
   ]
  },
  {
   "cell_type": "code",
   "execution_count": 10,
   "id": "512ce23d",
   "metadata": {},
   "outputs": [],
   "source": [
    "from sklearn import neighbors"
   ]
  },
  {
   "cell_type": "code",
   "execution_count": 11,
   "id": "e7fe4da6",
   "metadata": {},
   "outputs": [
    {
     "data": {
      "text/plain": [
       "KNeighborsClassifier()"
      ]
     },
     "execution_count": 11,
     "metadata": {},
     "output_type": "execute_result"
    }
   ],
   "source": [
    "predictor = neighbors.KNeighborsClassifier(n_neighbors=5)\n",
    "predictor.fit(X_public_preprocessed, y_public)\n"
   ]
  },
  {
   "cell_type": "markdown",
   "id": "e0e125e3",
   "metadata": {},
   "source": [
    "### Performance\n",
    "\n",
    "Il existe de nombreuses métriques pour évaluer les performances d'un algorithme de classification. Nous allons ici utiliser le F-score, dont vous trouverez une description dans la documentation du module `metrics` de `sklearn` : https://scikit-learn.org/stable/modules/generated/sklearn.metrics.f1_score.html#sklearn.metrics.f1_score et https://scikit-learn.org/stable/modules/model_evaluation.html#precision-recall-f-measure-metrics.\n",
    "\n",
    "#### Question 5\n",
    "Quel serait sur nos données le F-score d'un modèle naïf prédisant systématiquement la classe positive ?"
   ]
  },
  {
   "cell_type": "markdown",
   "id": "63405e6a-6fde-4b02-b5cb-4b0c307cd0f5",
   "metadata": {},
   "source": [
    "> Precision (P) is defined as the number of true positives over the number of true positives plus the number of false positives.\n",
    "Recall (R) is defined as the number of true positives over the number of true positives plus the number of false negatives.\n",
    "These quantities are also related to the (F1) score, which is defined as the harmonic mean of precision and recall : $F_1 = 2\\frac{P \\times R}{P+R} $\n",
    "\n",
    "On pose $nb\\_pins = $ `len(pos_indices_0)` et $nb\\_peupliers = $ `len(pos_indices_1)`.\n",
    "\n",
    "Calcul de $P$ : il y a $nb\\_pins$ vrais positifs et $nb\\_peupliers$ faux positifs.\n",
    "\n",
    "\n",
    "Donc $P = \\dfrac{nb\\_peupliers}{nb\\_peupliers + nb\\_pins}$.\n",
    "\n",
    "De plus, il n'y a pas de faux positifs : on a donc $R = 1$.\n",
    "\n",
    "Finalement, $T_1 = 2 \\dfrac{P}{P+1} \n",
    "= 2 \\dfrac{\\dfrac{nb\\_peupliers}{nb\\_peupliers + nb\\_pins}}{\\dfrac{nb\\_peupliers}{nb\\_peupliers + nb\\_pins}+1}\n",
    "= \\dfrac{2 \\; \\dfrac{nb\\_peupliers}{nb\\_peupliers + nb\\_pins}}{\\dfrac{2 \\; nb\\_peupliers + nb\\_pins}{nb\\_peupliers + nb\\_pins}}\n",
    "=\\dfrac{2 \\; nb\\_peupliers}{2 \\; nb\\_peupliers + nb\\_pins}$."
   ]
  },
  {
   "cell_type": "code",
   "execution_count": 12,
   "id": "52c28b5c-c495-48a4-88d1-ebb582ee0003",
   "metadata": {},
   "outputs": [
    {
     "name": "stdout",
     "output_type": "stream",
     "text": [
      "Le F-score d'un modèle naïf prédisant systématiquement la classe positive vaut 0.67.\n"
     ]
    }
   ],
   "source": [
    "print(f\"Le F-score d'un modèle naïf prédisant systématiquement la classe positive \"\\\n",
    "f\"vaut {2 * len(pos_indices_1) / (2 * len(pos_indices_1) + len(pos_indices_0)):1.2f}.\")"
   ]
  },
  {
   "cell_type": "markdown",
   "id": "2ee03609",
   "metadata": {},
   "source": [
    "#### Question 6\n",
    "\n",
    "Quelle est le F-score du modèle de 5 plus proches voisins que vous venez d'entraîner, sur les données `(X_public_preprocessed, y_public)` ?"
   ]
  },
  {
   "cell_type": "code",
   "execution_count": 13,
   "id": "bd6f9a27",
   "metadata": {},
   "outputs": [],
   "source": [
    "from sklearn.metrics import f1_score"
   ]
  },
  {
   "cell_type": "code",
   "execution_count": 14,
   "id": "f6b55040-3b32-44b7-ab86-c719c454c2f0",
   "metadata": {},
   "outputs": [
    {
     "name": "stdout",
     "output_type": "stream",
     "text": [
      "Le F-score du modèle des plus proches voisins avec k = 5 vaut 0.93.\n"
     ]
    }
   ],
   "source": [
    "y_pred = predictor.predict(X_public_preprocessed)\n",
    "\n",
    "print(f\"Le F-score du modèle des plus proches voisins avec k = 5 \"\\\n",
    "f\"vaut {f1_score(y_public, y_pred):1.2f}.\")"
   ]
  },
  {
   "cell_type": "markdown",
   "id": "72ab7178",
   "metadata": {},
   "source": [
    "#### Question 7\n",
    "* Que pensez-vous de cette performance ? \n",
    "* Est-ce une bonne idée d'évaluer le modèle sur le jeu d'entraînement ? (Réfléchissez en particulier au cas où k=1.)"
   ]
  },
  {
   "cell_type": "markdown",
   "id": "2e425ce0-21f6-4da7-988e-71a2911d02e5",
   "metadata": {},
   "source": [
    "La performance semble assez bonne. Elle est (heureusement) bien meilleure que si l'on prédit toujours la classe positive.\n",
    "\n",
    "Ce n'est pas une bonne idée d'évaluer le modèle sur le jeu d'entraînement, cela risque de donner des performances artificiellement élevées. En particulier, si $k=1$, le plus proche voisin d'un élément du jeu d'entrainement est lui-même, le modèle donnera donc toujours la bonne réponse sur le jeu d'entraînement."
   ]
  },
  {
   "cell_type": "code",
   "execution_count": 15,
   "id": "c55fcb0c-8fe0-4917-afff-7ccf621ccb87",
   "metadata": {},
   "outputs": [
    {
     "name": "stdout",
     "output_type": "stream",
     "text": [
      "Le F-score du modèle des plus proches voisins avec k = 1 vaut 1.00.\n"
     ]
    }
   ],
   "source": [
    "# test avec k = 1\n",
    "predictor_k_1 = neighbors.KNeighborsClassifier(n_neighbors=1)\n",
    "predictor_k_1.fit(X_public_preprocessed, y_public)\n",
    "\n",
    "y_pred_k_1 = predictor_k_1.predict(X_public_preprocessed)\n",
    "\n",
    "print(f\"Le F-score du modèle des plus proches voisins avec k = 1 \"\\\n",
    "f\"vaut {f1_score(y_public, y_pred_k_1):1.2f}.\")"
   ]
  },
  {
   "cell_type": "markdown",
   "id": "a2e746d8",
   "metadata": {},
   "source": [
    "## Création d'un jeu de test\n",
    "\n",
    "À partir de maintenant, nous allons séparer les données en un jeu d'entraînement, que nous utiliserons pour entraîner différents modèles, et un jeu de test, que nous utiliserons pour les comparer. (Cf CM 8)."
   ]
  },
  {
   "cell_type": "code",
   "execution_count": 16,
   "id": "90ad34db",
   "metadata": {},
   "outputs": [],
   "source": [
    "from sklearn import model_selection"
   ]
  },
  {
   "cell_type": "code",
   "execution_count": 17,
   "id": "6ab307ec",
   "metadata": {},
   "outputs": [
    {
     "data": {
      "text/plain": [
       "((4800, 10), (1200, 10))"
      ]
     },
     "execution_count": 17,
     "metadata": {},
     "output_type": "execute_result"
    }
   ],
   "source": [
    "# Use 20% for testing\n",
    "X_train, X_test, y_train, y_test = model_selection.train_test_split(X_public, y_public, test_size=0.20,\n",
    "                                                                    stratify=y_public,\n",
    "                                                                    random_state=42) \n",
    "X_train.shape, X_test.shape"
   ]
  },
  {
   "cell_type": "code",
   "execution_count": 18,
   "id": "127003a6-1062-49c3-b361-eedaefaf493f",
   "metadata": {},
   "outputs": [],
   "source": [
    "standard_scaler = preprocessing.StandardScaler()\n",
    "standard_scaler.fit(X_train)\n",
    "X_train = standard_scaler.transform(X_train)"
   ]
  },
  {
   "cell_type": "code",
   "execution_count": 19,
   "id": "a6f98ba9-f27c-4ad0-98a1-bdbc088c016a",
   "metadata": {},
   "outputs": [],
   "source": [
    "standard_scaler = preprocessing.StandardScaler()\n",
    "standard_scaler.fit(X_test)\n",
    "X_test = standard_scaler.transform(X_test)"
   ]
  },
  {
   "cell_type": "markdown",
   "id": "9cc1bd7a",
   "metadata": {},
   "source": [
    "### Performance sur le jeu de test d'un 5-NN entraîné sur le jeu d'entrainement"
   ]
  },
  {
   "cell_type": "markdown",
   "id": "61b75dfb",
   "metadata": {},
   "source": [
    "#### Question 8.a \n",
    "\n",
    "Entrainez de nouveau un modèle avec l'algorithme des 5 plus proches voisins, mais cette fois, utilisez uniquement le jeu d'entraînement. __Attention__ à bien « entraîner » votre pre-processing sur le jeu d'entraînement seulement ; considérez le jeu de test comme des données que vous ne voyez pas au moment de l'entraînement."
   ]
  },
  {
   "cell_type": "code",
   "execution_count": 20,
   "id": "a4cd5600",
   "metadata": {},
   "outputs": [],
   "source": [
    "predictor_train = neighbors.KNeighborsClassifier(n_neighbors=5)\n",
    "predictor_train.fit(X_train, y_train);"
   ]
  },
  {
   "cell_type": "markdown",
   "id": "8ffe747c",
   "metadata": {},
   "source": [
    "#### Question 8.b\n",
    "Évaluez le F-score sur le jeu de test du modèle entraîné à la question précédente."
   ]
  },
  {
   "cell_type": "code",
   "execution_count": 21,
   "id": "9148f616",
   "metadata": {},
   "outputs": [
    {
     "name": "stdout",
     "output_type": "stream",
     "text": [
      "Le F-score du modèle des plus proches voisins avec k = 5 \n",
      "entraîné sur 4800 observations et testé sur 1200 observations vaut 0.90.\n"
     ]
    }
   ],
   "source": [
    "y_pred_train = predictor_train.predict(X_test)\n",
    "\n",
    "print(f\"Le F-score du modèle des plus proches voisins avec k = 5 \"\\\n",
    "f\"\\nentraîné sur {X_train.shape[0]} observations et testé sur {X_test.shape[0]} observations \"\\\n",
    "f\"vaut {f1_score(y_test, y_pred_train):1.2f}.\")"
   ]
  },
  {
   "cell_type": "markdown",
   "id": "9204c290",
   "metadata": {},
   "source": [
    "#### Question 9\n",
    "Commentez le F-score obtenu ci-dessus."
   ]
  },
  {
   "cell_type": "markdown",
   "id": "f2e26258-d159-49cf-9f68-9c9703673950",
   "metadata": {},
   "source": [
    "Comme prévu, le F-score obtenu est un peu inférieur au précédent puisque qu'on ne teste plus sur des données ayant servi à entraîner le modèle. \n",
    "\n",
    "Cependant, les deux F-scores sont très proches, ce qui semble indiquer qu'avec 5 voisins, l'impact de la réutilisations des données n'est pas si important, il est en quelques sortes \"dilué\" par les autres voisins. (du moins sur ce jeu de données) "
   ]
  },
  {
   "cell_type": "markdown",
   "id": "96cb5ba3",
   "metadata": {},
   "source": [
    "## [À partir du CM 8 / de la PC 4] Sélection du nombre de plus proches voisins"
   ]
  },
  {
   "cell_type": "markdown",
   "id": "e4296a6f",
   "metadata": {},
   "source": [
    "#### Question 10.a \n",
    "Utilisez maintenant une validation croisée pour sélectionner la valeur optimale du nombre de voisins avec `GridSearchCV` (voir notamment PC4). \n",
    "\n",
    "Vous pouvez utiliser la grille de valeurs de k suivante, ou la modifier :"
   ]
  },
  {
   "cell_type": "code",
   "execution_count": 22,
   "id": "a89b4d4f-98e3-4825-b05c-dc78486fef39",
   "metadata": {},
   "outputs": [],
   "source": [
    "k_values = np.arange(3, 32, step=2)"
   ]
  },
  {
   "cell_type": "code",
   "execution_count": 23,
   "id": "16f3d578-78c0-43cc-a3eb-12b67de43810",
   "metadata": {},
   "outputs": [
    {
     "name": "stdout",
     "output_type": "stream",
     "text": [
      "Fitting 5 folds for each of 15 candidates, totalling 75 fits\n"
     ]
    },
    {
     "data": {
      "text/plain": [
       "GridSearchCV(cv=5, estimator=KNeighborsClassifier(), n_jobs=4,\n",
       "             param_grid=[{'n_neighbors': array([ 3,  5,  7,  9, 11, 13, 15, 17, 19, 21, 23, 25, 27, 29, 31])}],\n",
       "             refit=False, scoring='f1', verbose=3)"
      ]
     },
     "execution_count": 23,
     "metadata": {},
     "output_type": "execute_result"
    }
   ],
   "source": [
    "predictor = neighbors.KNeighborsClassifier()\n",
    "tuned_parameters = [{'n_neighbors': k_values}]\n",
    "\n",
    "nb_folds = 5\n",
    "grid = model_selection.GridSearchCV(predictor, tuned_parameters, scoring='f1', cv=nb_folds, refit=False, verbose=3, n_jobs=4)\n",
    "\n",
    "# run gridsearch\n",
    "grid.fit(X_train, y_train)\n"
   ]
  },
  {
   "cell_type": "markdown",
   "id": "4705223c",
   "metadata": {},
   "source": [
    "#### Question 10.b\n",
    "Quel est le F-score correspondant au nombre de voisins optimal ?"
   ]
  },
  {
   "cell_type": "code",
   "execution_count": 24,
   "id": "b8f5b2b4",
   "metadata": {},
   "outputs": [
    {
     "name": "stdout",
     "output_type": "stream",
     "text": [
      "[0.89626413 0.88745245 0.8814425  0.87361981 0.87044361 0.87048397\n",
      " 0.86748593 0.86404394 0.86164246 0.8599569  0.85769678 0.85559989\n",
      " 0.85401388 0.8546014  0.85302401]\n"
     ]
    }
   ],
   "source": [
    "# get F1\n",
    "scores = grid.cv_results_['mean_test_score']\n",
    "print(scores)\n"
   ]
  },
  {
   "cell_type": "markdown",
   "id": "fd72c41b",
   "metadata": {},
   "source": [
    "#### Question 10.c\n",
    "\n",
    "Quel est le F-score, sur le jeu de test, d'un modèle obtenu en entraînant un algorithme des k plus proches voisins, avec le k que vous venez de déterminer, sur le jeu d'entraînement ? Commentez."
   ]
  },
  {
   "cell_type": "code",
   "execution_count": 25,
   "id": "cccf2c24",
   "metadata": {},
   "outputs": [
    {
     "name": "stdout",
     "output_type": "stream",
     "text": [
      "Le F-score du modèle des plus proches voisins avec k = 3 \n",
      "entraîné sur 4800 observations et testé sur 1200 observations vaut 0.90.\n"
     ]
    }
   ],
   "source": [
    "predictor = neighbors.KNeighborsClassifier(n_neighbors=3)\n",
    "predictor.fit(X_train, y_train);\n",
    "\n",
    "y_pred = predictor.predict(X_test)\n",
    "\n",
    "print(f\"Le F-score du modèle des plus proches voisins avec k = 3 \"\\\n",
    "f\"\\nentraîné sur {X_train.shape[0]} observations et testé sur {X_test.shape[0]} observations \"\\\n",
    "f\"vaut {f1_score(y_test, y_pred):1.2f}.\")"
   ]
  },
  {
   "cell_type": "markdown",
   "id": "8c414bfd",
   "metadata": {},
   "source": [
    "## [À partir de la PC 5] Régression logistique"
   ]
  },
  {
   "cell_type": "code",
   "execution_count": 26,
   "id": "72557962-d3c3-4d72-ad3c-a9866a53451c",
   "metadata": {},
   "outputs": [],
   "source": [
    "def plot_gridsearch_results(grid, variable, nb_folds, x_name):\n",
    "    \"\"\"Affiche les résultats de la recherche du paramètre optimal\n",
    "    par validation croisée\n",
    "    \"\"\"\n",
    "    # get F1\n",
    "    scores = grid.cv_results_['mean_test_score']\n",
    "    scores_std = grid.cv_results_['std_test_score']\n",
    "    # compute standard errors\n",
    "    std_error = scores_std / np.sqrt(nb_folds)\n",
    "\n",
    "    # initialize plot frame\n",
    "    plt.figure(figsize=(10, 6))\n",
    "\n",
    "    # plot scores with a log scale in x-axis\n",
    "    plt.semilogx(variable, scores, label=\"Average F_score\")\n",
    "    plt.semilogx(variable, scores + std_error, 'b--')\n",
    "    plt.semilogx(variable, scores - std_error, 'b--')\n",
    "\n",
    "    # control the translucency of the fill color with alpha=0.2\n",
    "    plt.fill_between(variable, scores + std_error, scores - std_error, alpha=0.2)\n",
    "\n",
    "    # plot best score\n",
    "    plt.axhline(np.max(scores), linestyle=':', color=\"firebrick\", label=\"Best F_score\")\n",
    "\n",
    "    # format plot\n",
    "    plt.xlabel(x_name, fontweight=\"bold\", fontsize=15)\n",
    "    plt.ylabel(\"CV score +/- std error\", fontweight=\"bold\", fontsize=15)\n",
    "    plt.xlim([variable[0], variable[-1]])\n",
    "    plt.title(\"Gridsearch results (score = F_score)\", fontweight=\"bold\", fontsize=20)\n",
    "    plt.legend(loc=\"best\")\n",
    "    plt.tight_layout()\n",
    "    plt.show()"
   ]
  },
  {
   "cell_type": "markdown",
   "id": "028ac3a7",
   "metadata": {},
   "source": [
    "### Régression logistique non-régularisée"
   ]
  },
  {
   "cell_type": "markdown",
   "id": "7a0f7ace",
   "metadata": {},
   "source": [
    "#### Question 11.a\n",
    "\n",
    "Entraînez une régression logistique non-régularisée sur le jeu d'entraînement.\n",
    "\n",
    "__Conseils :__\n",
    "* Vous trouverez les outils nécessaires dans la classe `LogisticRegression` du module `linear_model` de `scikit-learn` ; il s'agit ainsi d'une variante de la PC5. Comme toujours, référez-vous à la [documentation](https://scikit-learn.org/stable/modules/generated/sklearn.linear_model.LogisticRegression.html).\n",
    "* Pour ne pas avoir de régularisation, utilisez `penalty='none'`"
   ]
  },
  {
   "cell_type": "code",
   "execution_count": 27,
   "id": "e42fd7a8",
   "metadata": {
    "tags": []
   },
   "outputs": [],
   "source": [
    "from sklearn.linear_model import LogisticRegression"
   ]
  },
  {
   "cell_type": "code",
   "execution_count": 28,
   "id": "768c92de-7645-4042-8a51-274e10c93203",
   "metadata": {},
   "outputs": [],
   "source": [
    "predictor = LogisticRegression(penalty='none', max_iter=1000)\n",
    "predictor.fit(X_train, y_train);"
   ]
  },
  {
   "cell_type": "markdown",
   "id": "e9c35691",
   "metadata": {},
   "source": [
    "#### Question 11.b\n",
    "Évaluez le F-score de cette régression logistique non-régularisée sur le jeu de test."
   ]
  },
  {
   "cell_type": "code",
   "execution_count": 29,
   "id": "21ce5ced",
   "metadata": {},
   "outputs": [
    {
     "name": "stdout",
     "output_type": "stream",
     "text": [
      "Le F-score de la régression logistique non-régularisée vaut 0.7770.\n"
     ]
    }
   ],
   "source": [
    "y_pred = predictor.predict(X_test)\n",
    "\n",
    "print(f\"Le F-score de la régression logistique non-régularisée \"\\\n",
    "f\"vaut {f1_score(y_test, y_pred):1.4f}.\")"
   ]
  },
  {
   "cell_type": "markdown",
   "id": "bcfe2f66",
   "metadata": {},
   "source": [
    "#### Question 12\n",
    "Vous attendez-vous à ce qu'utiliser une régularisation l2 améliore les performances du modèle ? Pourquoi ?"
   ]
  },
  {
   "cell_type": "markdown",
   "id": "485562f2-adf5-4d9e-be74-093f36db1085",
   "metadata": {},
   "source": [
    "Oui, car elle limiterait le surapprentissage. "
   ]
  },
  {
   "cell_type": "markdown",
   "id": "0b650ccc",
   "metadata": {},
   "source": [
    "#### Question 13.a\n",
    "Déterminez par validation croisée une valeur optimale du coefficient de régularisation d'une régression logistique avec régularisation ridge."
   ]
  },
  {
   "cell_type": "code",
   "execution_count": 30,
   "id": "43cb5ab2",
   "metadata": {},
   "outputs": [
    {
     "name": "stdout",
     "output_type": "stream",
     "text": [
      "Fitting 5 folds for each of 30 candidates, totalling 150 fits\n"
     ]
    },
    {
     "data": {
      "text/plain": [
       "GridSearchCV(cv=5, estimator=LogisticRegression(max_iter=1000), n_jobs=6,\n",
       "             param_grid=[{'C': array([1.00000000e-04, 1.88739182e-04, 3.56224789e-04, 6.72335754e-04,\n",
       "       1.26896100e-03, 2.39502662e-03, 4.52035366e-03, 8.53167852e-03,\n",
       "       1.61026203e-02, 3.03919538e-02, 5.73615251e-02, 1.08263673e-01,\n",
       "       2.04335972e-01, 3.85662042e-01, 7.27895384e-01, 1.37382380e+00,\n",
       "       2.59294380e+00, 4.89390092e+00, 9.23670857e+00, 1.74332882e+01,\n",
       "       3.29034456e+01, 6.21016942e+01, 1.17210230e+02, 2.21221629e+02,\n",
       "       4.17531894e+02, 7.88046282e+02, 1.48735211e+03, 2.80721620e+03,\n",
       "       5.29831691e+03, 1.00000000e+04])}],\n",
       "             refit=False, scoring='f1', verbose=3)"
      ]
     },
     "execution_count": 30,
     "metadata": {},
     "output_type": "execute_result"
    }
   ],
   "source": [
    "alphas = np.logspace(-4, 4, 30)\n",
    "predictor = LogisticRegression(penalty='l2', max_iter=1000)\n",
    "tuned_parameters = [{'C': alphas}]\n",
    "\n",
    "nb_folds = 5\n",
    "\n",
    "grid = model_selection.GridSearchCV(predictor, tuned_parameters, scoring='f1', cv=nb_folds, refit=False, verbose=3, n_jobs=6)\n",
    "# run gridsearch\n",
    "grid.fit(X_train, y_train)\n",
    "\n"
   ]
  },
  {
   "cell_type": "code",
   "execution_count": 31,
   "id": "99825112-6257-4e18-9cd6-c453403e3158",
   "metadata": {},
   "outputs": [
    {
     "data": {
      "image/png": "[encoded data removed]",
      "text/plain": [
       "<Figure size 720x432 with 1 Axes>"
      ]
     },
     "metadata": {
      "needs_background": "light"
     },
     "output_type": "display_data"
    }
   ],
   "source": [
    "plot_gridsearch_results(grid, alphas, nb_folds, \"C\")"
   ]
  },
  {
   "cell_type": "markdown",
   "id": "180e0862",
   "metadata": {
    "tags": []
   },
   "source": [
    "#### Question 13.b\n",
    "Quel est le F-score, sur le jeu de test, d'une régression logistique avec régularisation ridge et ce coefficient de régularisation optimal, entraînée sur le jeu d'entraînement ?"
   ]
  },
  {
   "cell_type": "code",
   "execution_count": 32,
   "id": "35591f8c",
   "metadata": {},
   "outputs": [
    {
     "name": "stdout",
     "output_type": "stream",
     "text": [
      "Le F-score de la régression logistique régularisée vaut 0.7766.\n"
     ]
    }
   ],
   "source": [
    "predictor = LogisticRegression(penalty='l2', C=3, max_iter=1000)\n",
    "predictor.fit(X_train, y_train);\n",
    "\n",
    "y_pred = predictor.predict(X_test)\n",
    "\n",
    "print(f\"Le F-score de la régression logistique régularisée \"\\\n",
    "f\"vaut {f1_score(y_test, y_pred):1.4f}.\")"
   ]
  },
  {
   "cell_type": "markdown",
   "id": "87fa6b7b",
   "metadata": {},
   "source": [
    "#### Question 13.c\n",
    "Commentez ce résultat en regard de votre réponse à la question 12."
   ]
  },
  {
   "cell_type": "markdown",
   "id": "56f4f227-7308-4ab2-81ae-7b2b3fc914f6",
   "metadata": {},
   "source": [
    "Finalement ça n'améliore pas beaucoup."
   ]
  },
  {
   "cell_type": "markdown",
   "id": "6ac89279",
   "metadata": {},
   "source": [
    "#### Question 14\n",
    "\n",
    "Entraînez une forêt aléatoire sur le jeu d'entraînement et évaluez son F-score sur le jeu de test.\n",
    "\n",
    "__Conseils :__\n",
    "* Vous trouverez les outils nécessaires dans la classe `RandomForestClassifier` du module `ensemble` de `scikit-learn`.\n",
    "* Choisissez le nombre d'arbres par validation croisée."
   ]
  },
  {
   "cell_type": "code",
   "execution_count": 33,
   "id": "b314472c",
   "metadata": {},
   "outputs": [],
   "source": [
    "from sklearn.ensemble import RandomForestClassifier"
   ]
  },
  {
   "cell_type": "code",
   "execution_count": 34,
   "id": "0699da41-70df-4230-8af4-e42fe8cfa083",
   "metadata": {},
   "outputs": [
    {
     "name": "stdout",
     "output_type": "stream",
     "text": [
      "Fitting 5 folds for each of 20 candidates, totalling 100 fits\n"
     ]
    },
    {
     "data": {
      "text/plain": [
       "GridSearchCV(cv=5, estimator=RandomForestClassifier(random_state=0), n_jobs=10,\n",
       "             param_grid=[{'n_estimators': array([  25,   32,   41,   53,   69,   89,  115,  149,  192,  248,  320,\n",
       "        412,  532,  686,  885, 1142, 1473, 1900, 2451, 3162])}],\n",
       "             refit=False, scoring='f1', verbose=3)"
      ]
     },
     "execution_count": 34,
     "metadata": {},
     "output_type": "execute_result"
    }
   ],
   "source": [
    "n_trees = np.logspace(1.4, 3.5, 20).astype(int)\n",
    "predictor_forest = RandomForestClassifier(random_state=0)\n",
    "tuned_parameters = [{'n_estimators': n_trees}]\n",
    "\n",
    "nb_folds = 5\n",
    "grid = model_selection.GridSearchCV(predictor_forest, tuned_parameters, scoring='f1', cv=nb_folds, refit=False, verbose=3, n_jobs=10)\n",
    "\n",
    "# run gridsearch\n",
    "grid.fit(X_train, y_train)\n"
   ]
  },
  {
   "cell_type": "code",
   "execution_count": 35,
   "id": "f991c95e-7589-490d-9c1c-f0a0937d452b",
   "metadata": {},
   "outputs": [
    {
     "data": {
      "image/png": "[encoded data removed]",
      "text/plain": [
       "<Figure size 720x432 with 1 Axes>"
      ]
     },
     "metadata": {
      "needs_background": "light"
     },
     "output_type": "display_data"
    }
   ],
   "source": [
    "plot_gridsearch_results(grid, n_trees, nb_folds, \"Nombre d'arbres\")"
   ]
  },
  {
   "cell_type": "code",
   "execution_count": 36,
   "id": "573eb734-6114-47e5-bd01-5612d8b0eb8d",
   "metadata": {},
   "outputs": [
    {
     "data": {
      "text/plain": [
       "RandomForestClassifier(n_estimators=1050, random_state=0)"
      ]
     },
     "execution_count": 36,
     "metadata": {},
     "output_type": "execute_result"
    }
   ],
   "source": [
    "predictor_forest = RandomForestClassifier(n_estimators=1050, random_state=0)\n",
    "predictor_forest.fit(X_train, y_train)"
   ]
  },
  {
   "cell_type": "code",
   "execution_count": 37,
   "id": "cb910ca9-077b-4682-84cb-92f95bfc188b",
   "metadata": {},
   "outputs": [
    {
     "name": "stdout",
     "output_type": "stream",
     "text": [
      "Le F-score de la forêt aléatoire vaut 0.9451.\n"
     ]
    }
   ],
   "source": [
    "y_pred = predictor_forest.predict(X_test)\n",
    "\n",
    "print(f\"Le F-score de la forêt aléatoire \"\\\n",
    "f\"vaut {f1_score(y_test, y_pred):1.4f}.\")"
   ]
  },
  {
   "cell_type": "markdown",
   "id": "2e429d88",
   "metadata": {},
   "source": [
    "## Modèle final"
   ]
  },
  {
   "cell_type": "markdown",
   "id": "a73b32af",
   "metadata": {},
   "source": [
    "#### Question 15.a\n",
    "Visualisez les performances des différents modèles (et pré-traitements) que vous avez évalués sur le jeu de test."
   ]
  },
  {
   "cell_type": "code",
   "execution_count": 38,
   "id": "8eb46e82",
   "metadata": {},
   "outputs": [],
   "source": [
    "# la liste contenant nos modèles\n",
    "liste_predictors = [\n",
    "    neighbors.KNeighborsClassifier(n_neighbors=3),\n",
    "    LogisticRegression(penalty='l2', C=3, max_iter=1000),\n",
    "    RandomForestClassifier(n_estimators=600),\n",
    "]"
   ]
  },
  {
   "cell_type": "code",
   "execution_count": 39,
   "id": "aff7c54b-2df7-450d-88b3-7ca55bfa69e5",
   "metadata": {},
   "outputs": [],
   "source": [
    "# on entraîne nos modèles sur nos données d'entraînement\n",
    "liste_predictors = [predictor.fit(X_train, y_train) for predictor in liste_predictors]"
   ]
  },
  {
   "cell_type": "code",
   "execution_count": 40,
   "id": "f1eb8b8c-fc05-4291-8a24-f7910cc4045e",
   "metadata": {},
   "outputs": [],
   "source": [
    "# on applique les modèles aux données de test\n",
    "liste_y_pred = [predictor.predict(X_test) for predictor in liste_predictors]"
   ]
  },
  {
   "cell_type": "code",
   "execution_count": 41,
   "id": "7432bf6a-2b42-466c-904b-156788939be6",
   "metadata": {},
   "outputs": [],
   "source": [
    "# on calcule le f-score de nos modèles\n",
    "liste_f1_score = [f1_score(y_test, y_pred) for y_pred in liste_y_pred]"
   ]
  },
  {
   "cell_type": "code",
   "execution_count": 42,
   "id": "cafda8f8-cff1-4dcf-806b-3a0d625e5a03",
   "metadata": {},
   "outputs": [
    {
     "data": {
      "image/png": "[encoded data removed]",
      "text/plain": [
       "<Figure size 360x360 with 1 Axes>"
      ]
     },
     "metadata": {
      "needs_background": "light"
     },
     "output_type": "display_data"
    }
   ],
   "source": [
    "plt.figure(figsize=(5, 5))\n",
    "\n",
    "plt.ylim(0,1)\n",
    "plt.xlim(-0.5,2.5)\n",
    "plt.bar([\"K plus proches\\nvoisins\", \"Régression\\nlogistique\", \"Forêt\\naléatoire\"], \n",
    "        liste_f1_score,\n",
    "        width=0.3,\n",
    ")\n",
    "for x in [0, 1, 2]:\n",
    "    plt.gca().text(x, 1.015*liste_f1_score[x],\n",
    "                '%1.4f' % (liste_f1_score[x]),\n",
    "                ha='center', va='bottom')\n",
    "\n",
    "plt.suptitle(\"F-score de différents modèles\");"
   ]
  },
  {
   "cell_type": "markdown",
   "id": "902eb50e",
   "metadata": {},
   "source": [
    "#### Question 15.b\n",
    "Utilisez cette figure pour __sélectionner votre modèle favori__. Quel pré-traitement choisissez-vous ? Quel algorithme choisissez-vous, avec quel hyper-paramètre ? "
   ]
  },
  {
   "cell_type": "markdown",
   "id": "f33bec55-7e84-4dfc-9f6e-4a9095f3df4b",
   "metadata": {},
   "source": [
    "Nous choisissons le modèle avec le meilleur F-score, qui est ici la forêt aléatoire avec 600 arbres. Nous utilisons les données centrées-réduites."
   ]
  },
  {
   "cell_type": "markdown",
   "id": "560bf244",
   "metadata": {},
   "source": [
    "#### Question 16.a\n",
    "Chargez les données privées de `data/foret_prive.tsv` pour obtenir un array `X_private`. Le fichier suit la même syntaxe que `data/foret_public.tsv`, mais sans la colonne des étiquettes."
   ]
  },
  {
   "cell_type": "code",
   "execution_count": 43,
   "id": "4d2e73b2",
   "metadata": {},
   "outputs": [],
   "source": [
    "df_private = pd.read_csv('data/foret_prive.tsv', delimiter='\\t')"
   ]
  },
  {
   "cell_type": "code",
   "execution_count": 44,
   "id": "5a5676e0-11fc-46bd-846c-997ed5233c4f",
   "metadata": {},
   "outputs": [
    {
     "data": {
      "text/html": [
       "<div>\n",
       "<style scoped>\n",
       "    .dataframe tbody tr th:only-of-type {\n",
       "        vertical-align: middle;\n",
       "    }\n",
       "\n",
       "    .dataframe tbody tr th {\n",
       "        vertical-align: top;\n",
       "    }\n",
       "\n",
       "    .dataframe thead th {\n",
       "        text-align: right;\n",
       "    }\n",
       "</style>\n",
       "<table border=\"1\" class=\"dataframe\">\n",
       "  <thead>\n",
       "    <tr style=\"text-align: right;\">\n",
       "      <th></th>\n",
       "      <th>altitude</th>\n",
       "      <th>exposition</th>\n",
       "      <th>pente</th>\n",
       "      <th>distance_horizontale_hydro</th>\n",
       "      <th>distance_verticale_hydro</th>\n",
       "      <th>distance_horizontale_route</th>\n",
       "      <th>ombrage_0900</th>\n",
       "      <th>ombrage_1200</th>\n",
       "      <th>ombrage_1500</th>\n",
       "      <th>distance_horizontale_depart_feu</th>\n",
       "    </tr>\n",
       "  </thead>\n",
       "  <tbody>\n",
       "    <tr>\n",
       "      <th>0</th>\n",
       "      <td>2654</td>\n",
       "      <td>42</td>\n",
       "      <td>15</td>\n",
       "      <td>60</td>\n",
       "      <td>7</td>\n",
       "      <td>1862</td>\n",
       "      <td>221</td>\n",
       "      <td>206</td>\n",
       "      <td>116</td>\n",
       "      <td>6907</td>\n",
       "    </tr>\n",
       "    <tr>\n",
       "      <th>1</th>\n",
       "      <td>2649</td>\n",
       "      <td>24</td>\n",
       "      <td>13</td>\n",
       "      <td>30</td>\n",
       "      <td>2</td>\n",
       "      <td>1832</td>\n",
       "      <td>213</td>\n",
       "      <td>211</td>\n",
       "      <td>133</td>\n",
       "      <td>6889</td>\n",
       "    </tr>\n",
       "    <tr>\n",
       "      <th>2</th>\n",
       "      <td>2647</td>\n",
       "      <td>357</td>\n",
       "      <td>16</td>\n",
       "      <td>0</td>\n",
       "      <td>0</td>\n",
       "      <td>1802</td>\n",
       "      <td>194</td>\n",
       "      <td>210</td>\n",
       "      <td>152</td>\n",
       "      <td>6870</td>\n",
       "    </tr>\n",
       "    <tr>\n",
       "      <th>3</th>\n",
       "      <td>2650</td>\n",
       "      <td>5</td>\n",
       "      <td>19</td>\n",
       "      <td>0</td>\n",
       "      <td>0</td>\n",
       "      <td>1772</td>\n",
       "      <td>192</td>\n",
       "      <td>199</td>\n",
       "      <td>141</td>\n",
       "      <td>6852</td>\n",
       "    </tr>\n",
       "    <tr>\n",
       "      <th>4</th>\n",
       "      <td>2645</td>\n",
       "      <td>25</td>\n",
       "      <td>24</td>\n",
       "      <td>30</td>\n",
       "      <td>7</td>\n",
       "      <td>1742</td>\n",
       "      <td>201</td>\n",
       "      <td>182</td>\n",
       "      <td>108</td>\n",
       "      <td>6834</td>\n",
       "    </tr>\n",
       "  </tbody>\n",
       "</table>\n",
       "</div>"
      ],
      "text/plain": [
       "   altitude  exposition  pente  distance_horizontale_hydro  \\\n",
       "0      2654          42     15                          60   \n",
       "1      2649          24     13                          30   \n",
       "2      2647         357     16                           0   \n",
       "3      2650           5     19                           0   \n",
       "4      2645          25     24                          30   \n",
       "\n",
       "   distance_verticale_hydro  distance_horizontale_route  ombrage_0900  \\\n",
       "0                         7                        1862           221   \n",
       "1                         2                        1832           213   \n",
       "2                         0                        1802           194   \n",
       "3                         0                        1772           192   \n",
       "4                         7                        1742           201   \n",
       "\n",
       "   ombrage_1200  ombrage_1500  distance_horizontale_depart_feu  \n",
       "0           206           116                             6907  \n",
       "1           211           133                             6889  \n",
       "2           210           152                             6870  \n",
       "3           199           141                             6852  \n",
       "4           182           108                             6834  "
      ]
     },
     "execution_count": 44,
     "metadata": {},
     "output_type": "execute_result"
    }
   ],
   "source": [
    "df_private.head()"
   ]
  },
  {
   "cell_type": "code",
   "execution_count": 45,
   "id": "38193ae2-2fd0-4e28-b011-cfdaa3b07af8",
   "metadata": {},
   "outputs": [],
   "source": [
    "X_private = np.array(df_private)"
   ]
  },
  {
   "cell_type": "markdown",
   "id": "b75ffaff",
   "metadata": {},
   "source": [
    "#### Question 16.b\n",
    "Appliquez le pré-traitement que vous avez choisi à l'intégralité du jeu de données public `X_public` pour obtenir `X_public_preprocessed`."
   ]
  },
  {
   "cell_type": "code",
   "execution_count": 46,
   "id": "61502b68",
   "metadata": {},
   "outputs": [],
   "source": [
    "standard_scaler = preprocessing.StandardScaler()\n",
    "standard_scaler.fit(X_public)\n",
    "X_public_preprocessed = standard_scaler.transform(X_public)"
   ]
  },
  {
   "cell_type": "markdown",
   "id": "082e3a5d",
   "metadata": {},
   "source": [
    "#### Question 16.c\n",
    "Appliquez à `X_private` le pré-traitement que vous avez choisi ; enregistrez le résultat dans `X_private_preprocessed`."
   ]
  },
  {
   "cell_type": "code",
   "execution_count": 47,
   "id": "6f32f197",
   "metadata": {},
   "outputs": [],
   "source": [
    "standard_scaler = preprocessing.StandardScaler()\n",
    "standard_scaler.fit(X_private)\n",
    "X_private_preprocessed = standard_scaler.transform(X_private)"
   ]
  },
  {
   "cell_type": "markdown",
   "id": "9d083aea",
   "metadata": {},
   "source": [
    "#### Question 16.d\n",
    "Entraînez l'algorithme que vous avez sélectionné sur l'intégralité des données publiques `(X_public_processed, y_public)`. "
   ]
  },
  {
   "cell_type": "code",
   "execution_count": 48,
   "id": "cb00d181",
   "metadata": {},
   "outputs": [
    {
     "data": {
      "text/plain": [
       "RandomForestClassifier(n_estimators=1050, random_state=0)"
      ]
     },
     "execution_count": 48,
     "metadata": {},
     "output_type": "execute_result"
    }
   ],
   "source": [
    "predictor_final = RandomForestClassifier(n_estimators=1050, random_state=0)\n",
    "predictor_final.fit(X_public_preprocessed, y_public)"
   ]
  },
  {
   "cell_type": "markdown",
   "id": "93416bca",
   "metadata": {},
   "source": [
    "#### Question 16.e\n",
    "Prédisez les étiquettes de `X_private_preprocessed` ; enregistrez le résultat dans un array `y_pred_final`"
   ]
  },
  {
   "cell_type": "code",
   "execution_count": 49,
   "id": "ab7318a4",
   "metadata": {},
   "outputs": [],
   "source": [
    "y_pred_final = predictor_final.predict(X_private_preprocessed)"
   ]
  },
  {
   "cell_type": "markdown",
   "id": "03579aac",
   "metadata": {},
   "source": [
    "#### Question 16.f\n",
    "Utilisez le code suivant pour créer le fichier de prédictions que vous rendrez. \n",
    "\n",
    "__Attention__ Si vous ouvrez ce fichier avec un programme externe type Microsoft Excel ou LibreOffice Calc pour le lire, il est possible que ce programme modifie le fichier sans que vous ne le réalisiez. Préférez utiliser une commande bash type `less` ou `cat` ou éditeur de texte simple ; ou alors assurez-vous de relancer la commande."
   ]
  },
  {
   "cell_type": "code",
   "execution_count": 50,
   "id": "41ffc523",
   "metadata": {},
   "outputs": [],
   "source": [
    "# Save array to file\n",
    "np.savetxt(\"test_file.tsv\", \n",
    "           y_pred_final,\n",
    "           fmt=('%d'), \n",
    "           header='Prediction',\n",
    "           delimiter='\\t', comments=\"\")"
   ]
  },
  {
   "cell_type": "markdown",
   "id": "c7f11291",
   "metadata": {},
   "source": [
    "## Bonus"
   ]
  },
  {
   "cell_type": "markdown",
   "id": "68d5544b",
   "metadata": {},
   "source": [
    "1. En alternative au F-score, utilisez des courbes ROC (et l'aire sous ces courbes) pour comparer vos modèles. Attention à utiliser les méthodes `predict_proba()` plutôt que `predict()` pour obtenir des scores non-seuillés plutôt que des prédictions binaires. Documentation pertinente : https://scikit-learn.org/stable/modules/generated/sklearn.metrics.plot_roc_curve.html et  https://scikit-learn.org/stable/modules/generated/sklearn.metrics.roc_auc_score.html.\n",
    "\n",
    "1. Explorez d'autres pré-traitements (comme par exemple le fait de réduire la dimension des données) et d'autres algorithmes d'apprentissage implémentés dans scikit-learn (par exemple SVM, perceptrons multi-couches) pour essayer d'améliorer vos prédictions et reprenez la question 15."
   ]
  }
 ],
 "metadata": {
  "kernelspec": {
   "display_name": "Python 3",
   "language": "python",
   "name": "python3"
  },
  "language_info": {
   "codemirror_mode": {
    "name": "ipython",
    "version": 3
   },
   "file_extension": ".py",
   "mimetype": "text/x-python",
   "name": "python",
   "nbconvert_exporter": "python",
   "pygments_lexer": "ipython3",
   "version": "3.8.10"
  }
 },
 "nbformat": 4,
 "nbformat_minor": 5
}
